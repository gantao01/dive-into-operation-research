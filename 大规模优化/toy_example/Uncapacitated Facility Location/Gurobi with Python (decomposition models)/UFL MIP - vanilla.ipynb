{
 "cells": [
  {
   "cell_type": "code",
   "execution_count": 1,
   "metadata": {},
   "outputs": [],
   "source": [
    "import numpy as np\n",
    "from gurobipy import *"
   ]
  },
  {
   "cell_type": "code",
   "execution_count": 2,
   "metadata": {},
   "outputs": [],
   "source": [
    "with open('UFL.dat') as f:\n",
    "    dem = np.fromstring(f.readline(), sep=',\\t')\n",
    "    c = np.fromstring(f.readline(), sep=',\\t')\n",
    "    c = c.reshape(len(dem), len(c)//len(dem))\n",
    "    f = np.fromstring(f.readline(), sep=',\\t')"
   ]
  },
  {
   "cell_type": "code",
   "execution_count": 3,
   "metadata": {
    "scrolled": true
   },
   "outputs": [
    {
     "name": "stdout",
     "output_type": "stream",
     "text": [
      "Demand vector: (45,)\n",
      "Fixed-cost vector: (40,)\n",
      "Variable-cost matrix: (45, 40)\n"
     ]
    }
   ],
   "source": [
    "n_clients = dem.shape[0]\n",
    "print('Demand vector:', dem.shape)\n",
    "n_facilities = f.shape[0]\n",
    "print('Fixed-cost vector:', f.shape)\n",
    "print('Variable-cost matrix:', c.shape)"
   ]
  },
  {
   "cell_type": "code",
   "execution_count": 4,
   "metadata": {
    "scrolled": false
   },
   "outputs": [
    {
     "name": "stdout",
     "output_type": "stream",
     "text": [
      "Academic license - for non-commercial use only\n",
      "Optimize a model with 1845 rows, 1840 columns and 5400 nonzeros\n",
      "Variable types: 1800 continuous, 40 integer (40 binary)\n",
      "Coefficient statistics:\n",
      "  Matrix range     [1e+00, 2e+02]\n",
      "  Objective range  [1e+01, 5e+03]\n",
      "  Bounds range     [1e+00, 1e+00]\n",
      "  RHS range        [1e+01, 2e+02]\n",
      "Found heuristic solution: objective 1356880.0000\n",
      "Presolve time: 0.01s\n",
      "Presolved: 1845 rows, 1840 columns, 5400 nonzeros\n",
      "Variable types: 1800 continuous, 40 integer (40 binary)\n",
      "\n",
      "Root relaxation: objective 1.829190e+05, 105 iterations, 0.00 seconds\n",
      "\n",
      "    Nodes    |    Current Node    |     Objective Bounds      |     Work\n",
      " Expl Unexpl |  Obj  Depth IntInf | Incumbent    BestBd   Gap | It/Node Time\n",
      "\n",
      "*    0     0               0    182919.00000 182919.000  0.00%     -    0s\n",
      "\n",
      "Explored 0 nodes (105 simplex iterations) in 0.03 seconds\n",
      "Thread count was 4 (of 4 available processors)\n",
      "\n",
      "Solution count 2: 182919 1.35688e+06 \n",
      "\n",
      "Optimal solution found (tolerance 1.00e-04)\n",
      "Best objective 1.829190000000e+05, best bound 1.829190000000e+05, gap 0.0000%\n"
     ]
    },
    {
     "name": "stderr",
     "output_type": "stream",
     "text": [
      "C:\\Users\\samarth\\Anaconda3\\lib\\site-packages\\ipykernel_launcher.py:5: DeprecationWarning: elementwise comparison failed; this will raise an error in the future.\n",
      "  \"\"\"\n"
     ]
    }
   ],
   "source": [
    "# Create model instance\n",
    "mip = Model('Branch-and-Cut')\n",
    "\n",
    "# Add variables\n",
    "x = mip.addVars(n_clients, n_facilities, obj=c, vtype=GRB.CONTINUOUS, name='x')\n",
    "y = mip.addVars(n_facilities, obj=f, vtype=GRB.BINARY, name='y')\n",
    "mip.update()\n",
    "\n",
    "# Add constraints\n",
    "mip.addConstrs((x.sum(i, '*') == dem[i] for i in range(n_clients)), name='assignment_constr')\n",
    "mip.addConstrs((x[i,j] <= dem[i]*y[j] for i in range(n_clients) for j in range(n_facilities)), name='disagg_capacity_constr')\n",
    "\n",
    "# Set objective\n",
    "mip.ModelSense = GRB.MINIMIZE\n",
    "\n",
    "# Solve model\n",
    "mip.optimize()"
   ]
  },
  {
   "cell_type": "code",
   "execution_count": 5,
   "metadata": {},
   "outputs": [],
   "source": [
    "# Write lp file\n",
    "mip.write('mip.lp')"
   ]
  }
 ],
 "metadata": {
  "kernelspec": {
   "display_name": "Python 3",
   "language": "python",
   "name": "python3"
  },
  "language_info": {
   "codemirror_mode": {
    "name": "ipython",
    "version": 3
   },
   "file_extension": ".py",
   "mimetype": "text/x-python",
   "name": "python",
   "nbconvert_exporter": "python",
   "pygments_lexer": "ipython3",
   "version": "3.7.3"
  }
 },
 "nbformat": 4,
 "nbformat_minor": 2
}
