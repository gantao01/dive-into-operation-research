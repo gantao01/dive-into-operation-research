{
 "cells": [
  {
   "cell_type": "code",
   "execution_count": 1,
   "metadata": {},
   "outputs": [],
   "source": [
    "import numpy as np\n",
    "from gurobipy import *"
   ]
  },
  {
   "cell_type": "code",
   "execution_count": 2,
   "metadata": {},
   "outputs": [],
   "source": [
    "with open('UFL.dat') as f:\n",
    "    dem = np.fromstring(f.readline(), sep=',\\t')\n",
    "    c = np.fromstring(f.readline(), sep=',\\t')\n",
    "    c = c.reshape(len(dem), len(c)//len(dem))\n",
    "    f = np.fromstring(f.readline(), sep=',\\t')"
   ]
  },
  {
   "cell_type": "code",
   "execution_count": 3,
   "metadata": {},
   "outputs": [
    {
     "name": "stdout",
     "output_type": "stream",
     "text": [
      "Demand vector: (45,)\n",
      "Fixed-cost vector: (40,)\n",
      "Variable-cost matrix: (45, 40)\n"
     ]
    }
   ],
   "source": [
    "n_clients = dem.shape[0]\n",
    "print('Demand vector:', dem.shape)\n",
    "n_facilities = f.shape[0]\n",
    "print('Fixed-cost vector:', f.shape)\n",
    "print('Variable-cost matrix:', c.shape)"
   ]
  },
  {
   "cell_type": "code",
   "execution_count": 4,
   "metadata": {
    "scrolled": true
   },
   "outputs": [
    {
     "name": "stdout",
     "output_type": "stream",
     "text": [
      "Academic license - for non-commercial use only\n",
      "\n",
      "Iteration: 1 \n",
      "Objective value = 3974.0\n",
      "\n",
      "Iteration: 2 \n",
      "Objective value = 171859.0\n",
      "\n",
      "Iteration: 3 \n",
      "Objective value = 179276.0\n",
      "\n",
      "Iteration: 4 \n",
      "Objective value = 179927.0\n",
      "\n",
      "Iteration: 5 \n",
      "Objective value = 180171.0\n",
      "\n",
      "Iteration: 6 \n",
      "Objective value = 180415.0\n",
      "\n",
      "Iteration: 7 \n",
      "Objective value = 180659.0\n",
      "\n",
      "Iteration: 8 \n",
      "Objective value = 180903.0\n",
      "\n",
      "Iteration: 9 \n",
      "Objective value = 181147.0\n",
      "\n",
      "Iteration: 10 \n",
      "Objective value = 181391.0\n",
      "\n",
      "Iteration: 11 \n",
      "Objective value = 181635.0\n",
      "\n",
      "Iteration: 12 \n",
      "Objective value = 181879.0\n",
      "\n",
      "Iteration: 13 \n",
      "Objective value = 182123.0\n",
      "\n",
      "Iteration: 14 \n",
      "Objective value = 182367.0\n",
      "\n",
      "Iteration: 15 \n",
      "Objective value = 182479.0\n",
      "\n",
      "Iteration: 16 \n",
      "Objective value = 182579.0\n",
      "\n",
      "Iteration: 17 \n",
      "Objective value = 182679.0\n",
      "\n",
      "Iteration: 18 \n",
      "Objective value = 182779.0\n",
      "\n",
      "Iteration: 19 \n",
      "Objective value = 182879.0\n",
      "\n",
      "Iteration: 20 \n",
      "Objective value = 182919.0\n",
      "\n",
      "  ##########\n",
      "     Done!\n",
      "  ##########\n"
     ]
    }
   ],
   "source": [
    "#~~~~~~~~~~~~~~~~~~~~~~~~~~~~~~~~~~~~~~~~~~~~~~~~~~~~~~~~~~~~~~~~~~~~\n",
    "#     LANGRANGIAN RELAXATION\n",
    "#~~~~~~~~~~~~~~~~~~~~~~~~~~~~~~~~~~~~~~~~~~~~~~~~~~~~~~~~~~~~~~~~~~~~\n",
    "\n",
    "# Create relaxation problem instance\n",
    "lr = Model('langrangian_relaxation')\n",
    "\n",
    "# Add variables\n",
    "x = lr.addVars(n_clients, n_facilities, vtype=GRB.CONTINUOUS, name='x')\n",
    "y = lr.addVars(n_facilities, vtype=GRB.BINARY, name='y')\n",
    "p = lr.addVars(n_clients, vtype=GRB.CONTINUOUS, name='p')\n",
    "lr.update()\n",
    "\n",
    "# Add constraints\n",
    "lr.addConstrs((dem[i] - x.sum(i, '*') == p[i] for i in range(n_clients)), name='l_multiplier_penalty')\n",
    "lr.addConstrs((x[i,j] <= dem[i]*y[j] for i in range(n_clients) for j in range(n_facilities)), name='disagg_capacity_constr')\n",
    "\n",
    "# Initialize Lagrangian Multipliers for the assignment contraints\n",
    "u = np.ones(n_clients) \n",
    "\n",
    "# Placeholder for penalties\n",
    "penalties = np.ones(n_clients)\n",
    "\n",
    "# Re-optimize until complementary slackness conditions apply\n",
    "# (for each dualized constraint either its multiplier or penalty must be zero)\n",
    "tol = 1e-6\n",
    "s = 1\n",
    "iter_count = 0\n",
    "\n",
    "while not (u.any() <= tol) | (penalties.any() <= tol):\n",
    "    \n",
    "    # Initialize objective function\n",
    "    obj_lr = LinExpr()\n",
    "    for j in range(n_facilities):\n",
    "        obj_lr += f[j]*y[j]\n",
    "    for i in range(n_clients):\n",
    "        obj_lr += u[i]*p[i]\n",
    "        for j in range(n_facilities):\n",
    "            obj_lr += c[i][j]*x[i,j]\n",
    "    \n",
    "    # Set objective\n",
    "    lr.setObjective(obj_lr, GRB.MINIMIZE)\n",
    "    \n",
    "    # Gurobi param\n",
    "    lr.setParam('OutputFlag', 0)\n",
    "    \n",
    "    # Solve model\n",
    "    lr.optimize()\n",
    "    \n",
    "    # Langrangian Multiplier penalties\n",
    "    penalties = np.array([p[var].x for var in p])\n",
    "    \n",
    "    # Update Langrangian Multiplier\n",
    "    for i in range(n_clients):\n",
    "        u[i] = max(u[i] + s*(penalties[i]), 0)\n",
    "    \n",
    "    # Increase counter\n",
    "    iter_count += 1\n",
    "    \n",
    "    # Print status\n",
    "    print('\\nIteration:', iter_count, '\\nObjective value =', lr.objVal)\n",
    "    \n",
    "# Print completion status\n",
    "print('\\n  ##########\\n     Done!\\n  ##########')"
   ]
  },
  {
   "cell_type": "code",
   "execution_count": 5,
   "metadata": {},
   "outputs": [],
   "source": [
    "# Write lp file\n",
    "lr.write('langrangian_relaxation.lp')"
   ]
  }
 ],
 "metadata": {
  "kernelspec": {
   "display_name": "Python 3",
   "language": "python",
   "name": "python3"
  },
  "language_info": {
   "codemirror_mode": {
    "name": "ipython",
    "version": 3
   },
   "file_extension": ".py",
   "mimetype": "text/x-python",
   "name": "python",
   "nbconvert_exporter": "python",
   "pygments_lexer": "ipython3",
   "version": "3.7.3"
  }
 },
 "nbformat": 4,
 "nbformat_minor": 2
}
